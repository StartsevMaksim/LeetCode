{
 "cells": [
  {
   "cell_type": "code",
   "execution_count": 4,
   "id": "2883318a-bc1b-46dd-b4f5-1f9ce0728675",
   "metadata": {},
   "outputs": [],
   "source": [
    "from collections import deque, defaultdict\n",
    "from UserClasses import generateTree, generateList, ListNode, TreeNode\n",
    "import operator\n",
    "import math\n",
    "import functools\n",
    "import re\n",
    "import heapq\n",
    "import bisect\n",
    "import copy"
   ]
  }
 ],
 "metadata": {
  "kernelspec": {
   "display_name": "Python 3 (ipykernel)",
   "language": "python",
   "name": "python3"
  },
  "language_info": {
   "codemirror_mode": {
    "name": "ipython",
    "version": 3
   },
   "file_extension": ".py",
   "mimetype": "text/x-python",
   "name": "python",
   "nbconvert_exporter": "python",
   "pygments_lexer": "ipython3",
   "version": "3.12.6"
  }
 },
 "nbformat": 4,
 "nbformat_minor": 5
}
